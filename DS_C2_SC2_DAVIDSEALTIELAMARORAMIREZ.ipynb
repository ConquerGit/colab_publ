{
  "nbformat": 4,
  "nbformat_minor": 0,
  "metadata": {
    "colab": {
      "provenance": []
    },
    "kernelspec": {
      "name": "python3",
      "display_name": "Python 3"
    },
    "language_info": {
      "name": "python"
    }
  },
  "cells": [
    {
      "cell_type": "markdown",
      "source": [
        "a. Extraer la información del archivo.\n",
        "  \n",
        "  Para extraer la información del archivo, ocupamos pandas con rad_csv al archivo colocado en la raíz\n",
        "\n",
        "  Imprimimos el DF para saber que está de forma correcta con el head y types."
      ],
      "metadata": {
        "id": "C7VKFYo7C-Fi"
      }
    },
    {
      "cell_type": "code",
      "execution_count": 2,
      "metadata": {
        "colab": {
          "base_uri": "https://localhost:8080/"
        },
        "id": "0KKiBdgmi5be",
        "outputId": "752d1188-cd4f-4aaf-dc16-09675ea9772d",
        "collapsed": true
      },
      "outputs": [
        {
          "output_type": "stream",
          "name": "stdout",
          "text": [
            "\n",
            " Contenido del dataframe: \n",
            "\n",
            "<bound method NDFrame.head of            country iso_code        date  total_vaccinations  \\\n",
            "0      Afghanistan      AFG  2021-02-22                 0.0   \n",
            "1      Afghanistan      AFG  2021-02-23                 NaN   \n",
            "2      Afghanistan      AFG  2021-02-24                 NaN   \n",
            "3      Afghanistan      AFG  2021-02-25                 NaN   \n",
            "4      Afghanistan      AFG  2021-02-26                 NaN   \n",
            "...            ...      ...         ...                 ...   \n",
            "86507     Zimbabwe      ZWE  2022-03-25           8691642.0   \n",
            "86508     Zimbabwe      ZWE  2022-03-26           8791728.0   \n",
            "86509     Zimbabwe      ZWE  2022-03-27           8845039.0   \n",
            "86510     Zimbabwe      ZWE  2022-03-28           8934360.0   \n",
            "86511     Zimbabwe      ZWE  2022-03-29           9039729.0   \n",
            "\n",
            "       people_vaccinated  people_fully_vaccinated  daily_vaccinations_raw  \\\n",
            "0                    0.0                      NaN                     NaN   \n",
            "1                    NaN                      NaN                     NaN   \n",
            "2                    NaN                      NaN                     NaN   \n",
            "3                    NaN                      NaN                     NaN   \n",
            "4                    NaN                      NaN                     NaN   \n",
            "...                  ...                      ...                     ...   \n",
            "86507          4814582.0                3473523.0                139213.0   \n",
            "86508          4886242.0                3487962.0                100086.0   \n",
            "86509          4918147.0                3493763.0                 53311.0   \n",
            "86510          4975433.0                3501493.0                 89321.0   \n",
            "86511          5053114.0                3510256.0                105369.0   \n",
            "\n",
            "       daily_vaccinations  total_vaccinations_per_hundred  \\\n",
            "0                     NaN                            0.00   \n",
            "1                  1367.0                             NaN   \n",
            "2                  1367.0                             NaN   \n",
            "3                  1367.0                             NaN   \n",
            "4                  1367.0                             NaN   \n",
            "...                   ...                             ...   \n",
            "86507             69579.0                           57.59   \n",
            "86508             83429.0                           58.25   \n",
            "86509             90629.0                           58.61   \n",
            "86510            100614.0                           59.20   \n",
            "86511            103751.0                           59.90   \n",
            "\n",
            "       people_vaccinated_per_hundred  people_fully_vaccinated_per_hundred  \\\n",
            "0                               0.00                                  NaN   \n",
            "1                                NaN                                  NaN   \n",
            "2                                NaN                                  NaN   \n",
            "3                                NaN                                  NaN   \n",
            "4                                NaN                                  NaN   \n",
            "...                              ...                                  ...   \n",
            "86507                          31.90                                23.02   \n",
            "86508                          32.38                                23.11   \n",
            "86509                          32.59                                23.15   \n",
            "86510                          32.97                                23.20   \n",
            "86511                          33.48                                23.26   \n",
            "\n",
            "       daily_vaccinations_per_million  \\\n",
            "0                                 NaN   \n",
            "1                                34.0   \n",
            "2                                34.0   \n",
            "3                                34.0   \n",
            "4                                34.0   \n",
            "...                               ...   \n",
            "86507                          4610.0   \n",
            "86508                          5528.0   \n",
            "86509                          6005.0   \n",
            "86510                          6667.0   \n",
            "86511                          6874.0   \n",
            "\n",
            "                                                vaccines  \\\n",
            "0      Johnson&Johnson, Oxford/AstraZeneca, Pfizer/Bi...   \n",
            "1      Johnson&Johnson, Oxford/AstraZeneca, Pfizer/Bi...   \n",
            "2      Johnson&Johnson, Oxford/AstraZeneca, Pfizer/Bi...   \n",
            "3      Johnson&Johnson, Oxford/AstraZeneca, Pfizer/Bi...   \n",
            "4      Johnson&Johnson, Oxford/AstraZeneca, Pfizer/Bi...   \n",
            "...                                                  ...   \n",
            "86507  Oxford/AstraZeneca, Sinopharm/Beijing, Sinovac...   \n",
            "86508  Oxford/AstraZeneca, Sinopharm/Beijing, Sinovac...   \n",
            "86509  Oxford/AstraZeneca, Sinopharm/Beijing, Sinovac...   \n",
            "86510  Oxford/AstraZeneca, Sinopharm/Beijing, Sinovac...   \n",
            "86511  Oxford/AstraZeneca, Sinopharm/Beijing, Sinovac...   \n",
            "\n",
            "                     source_name  \\\n",
            "0      World Health Organization   \n",
            "1      World Health Organization   \n",
            "2      World Health Organization   \n",
            "3      World Health Organization   \n",
            "4      World Health Organization   \n",
            "...                          ...   \n",
            "86507         Ministry of Health   \n",
            "86508         Ministry of Health   \n",
            "86509         Ministry of Health   \n",
            "86510         Ministry of Health   \n",
            "86511         Ministry of Health   \n",
            "\n",
            "                                          source_website  \n",
            "0                               https://covid19.who.int/  \n",
            "1                               https://covid19.who.int/  \n",
            "2                               https://covid19.who.int/  \n",
            "3                               https://covid19.who.int/  \n",
            "4                               https://covid19.who.int/  \n",
            "...                                                  ...  \n",
            "86507  https://www.arcgis.com/home/webmap/viewer.html...  \n",
            "86508  https://www.arcgis.com/home/webmap/viewer.html...  \n",
            "86509  https://www.arcgis.com/home/webmap/viewer.html...  \n",
            "86510  https://www.arcgis.com/home/webmap/viewer.html...  \n",
            "86511  https://www.arcgis.com/home/webmap/viewer.html...  \n",
            "\n",
            "[86512 rows x 15 columns]>\n",
            "\n",
            " Tipos de datos para el dataframe: \n",
            "\n",
            "country                                 object\n",
            "iso_code                                object\n",
            "date                                    object\n",
            "total_vaccinations                     float64\n",
            "people_vaccinated                      float64\n",
            "people_fully_vaccinated                float64\n",
            "daily_vaccinations_raw                 float64\n",
            "daily_vaccinations                     float64\n",
            "total_vaccinations_per_hundred         float64\n",
            "people_vaccinated_per_hundred          float64\n",
            "people_fully_vaccinated_per_hundred    float64\n",
            "daily_vaccinations_per_million         float64\n",
            "vaccines                                object\n",
            "source_name                             object\n",
            "source_website                          object\n",
            "dtype: object\n"
          ]
        }
      ],
      "source": [
        "import pandas as pd\n",
        "import os\n",
        "\n",
        "# Leer el archivo CSV.\n",
        "df = pd.read_csv('country_vaccinations.csv')\n",
        "\n",
        "# Mostrar los datos del DataFrame solo para asegurarnos que se cargó de forma\n",
        "# correcta.\n",
        "print(\"\\n Contenido del dataframe: \\n\")\n",
        "print(df.head)\n",
        "print(\"\\n Tipos de datos para el dataframe: \\n\")\n",
        "print(df.dtypes)\n",
        "\n"
      ]
    },
    {
      "cell_type": "markdown",
      "source": [
        "b. Mostrar la estructura y tipos de datos de cada columna para identificar qué operaciones puedes realizar con cada una de ellas, asegurándote que las columnas con fechas sean del tipo datetime64.\n",
        "\n",
        "Como ya hemos mostrado los tipos de datos contenidos en el DF, ahora podemos identificar la columna y cambiar el tipo de dato a datetime64 mediante to_date.\n",
        "\n",
        "Imprimimos de nuevo los tipos de dato para corroborar que se haya realizado el cambio.\n"
      ],
      "metadata": {
        "id": "SIC9GyiNDhvC"
      }
    },
    {
      "cell_type": "code",
      "source": [
        "# Se identifica la columna date y se convierte de object a DateTime usando\n",
        "# to_datetime().\n",
        "df['date'] = pd.to_datetime(df['date'])\n",
        "print(\"\\n Tipos de datos para el dataframe corregido: \\n\")\n",
        "print(df.dtypes)\n",
        "\n",
        "\n"
      ],
      "metadata": {
        "id": "x3QHzRGYDnUO"
      },
      "execution_count": null,
      "outputs": []
    },
    {
      "cell_type": "markdown",
      "source": [
        "c. Determinar la cantidad de vacunas aplicadas de cada compañía (con base en cómo lo reporta cada país en la columna vaccines, en otras palabras, agrupe por vaccines y realice la sumatoria).\n",
        "\n",
        "\n",
        "Para esto, creamos un df llamado df_separado para separar las marcas de las vacunas que están en una sola columna divididos por \" , \"\n",
        "\n",
        "Posteriormente, quitaremos los espacios para evitarnos cualquier inconveniente al comparar los nombres.\n",
        "\n",
        "Después calcularemos cuantas marcas hay por cada día con len() y lo guardamos en una nueva columna colocando un número entero.\n",
        "Ahora, para calcular  la cantidad de vacunas por marca, sugerimos utilizar de forma equitativa la cantidad de vacunas por día, así que dividimos las vacunas diarias, entre el numero de marcas aplicadas ese día. Guardamos el resultado en una nueva columna llamada vacunas_por_marca_diario en el df_separado.\n",
        "\n",
        "Finalmente para resolver este punto, agrupamos por el contenido de vaccine.\n",
        "Para imprimir el resultado colocamos un for para que todas las marcas las vaya recorriendo y colocandolas en pantalla."
      ],
      "metadata": {
        "id": "oVgg_yxeEMHI"
      }
    },
    {
      "cell_type": "code",
      "source": [
        "\n",
        "\n",
        "# Crear DataFrame separado por marca de vacuna\n",
        "df_separado = (\n",
        "    # Dividir las marcas\n",
        "    df.assign(vaccine=df['vaccines'].str.split(', '))\n",
        "    # Crear una fila por cada marca\n",
        "    .explode('vaccine')\n",
        "    # Limpiar espacios\n",
        "    .assign(vaccine=lambda x: x['vaccine'].str.strip())\n",
        ")\n",
        "\n",
        "# Calcular cuántas marcas hay por fila\n",
        "df_separado['num_vacunas_por_dia'] = df_separado['vaccines'].str.split(', ').str.len()\n",
        "\n",
        "# Distribuir equitativamente las vacunas diarias entre las marcas que aparecen\n",
        "# ese día.\n",
        "df_separado['vacunas_por_marca_diario'] = (\n",
        "    df_separado['daily_vaccinations'] / df_separado['num_vacunas_por_dia']\n",
        ").fillna(0)\n",
        "\n",
        "# Agrupar por marca y sumar las vacunas distribuidas\n",
        "vacunas_por_marca = df_separado.groupby('vaccine')['vacunas_por_marca_diario'].sum().sort_values(ascending=False)\n",
        "\n",
        "print(\"\\n Vacunas aplicadas por marca (distribución diaria equitativa) \\n\")\n",
        "\n",
        "for marca, total in vacunas_por_marca.items():\n",
        "    print(f\"{marca}: {total:,.0f} vacunas \\n\")\n",
        "\n"
      ],
      "metadata": {
        "id": "suw8lqIHEN4u"
      },
      "execution_count": null,
      "outputs": []
    },
    {
      "cell_type": "markdown",
      "source": [
        "d. Obtener la cantidad de vacunas aplicadas en todo el mundo.\n",
        "\n",
        "Para este punto, ocupamos la función de sum() para obtener una variable llamada total_vacunas_diarias que tiene la sumatoria de daily vaccinations del df original.\n",
        "\n",
        "Imprimimos el total."
      ],
      "metadata": {
        "id": "85nP_QVrF80-"
      }
    },
    {
      "cell_type": "code",
      "source": [
        "# Arriba calculamos la cantidad total de vacunas aplicadas.\n",
        "total_vacunas_diarias = df['daily_vaccinations'].sum()\n",
        "print(f\"\\nTotal diario mundial verificado: {total_vacunas_diarias:,.0f} vacunas\")\n",
        "\n",
        "\n"
      ],
      "metadata": {
        "id": "pT1b3FyhF9o-"
      },
      "execution_count": null,
      "outputs": []
    },
    {
      "cell_type": "markdown",
      "source": [
        "e. Calcular el promedio de vacunas aplicadas por país\n",
        "\n",
        "Para esto, ya tenemos el total de vacunas y solo nos falta obtener el total de paises, asi que agrupamos vacunas por país sumando la columna daily_vaccionations. Entonces podemos calcular el promedio, de la serie que acabamos de crear, sacamos la cantidad de paises con len() y podemos hacer la división correspondiente.\n",
        "Colocamos en una impresión el total de vacunas aplicadas a nivel mundial y la cantidad de paises; finalmente colocamos el promedio por país\n"
      ],
      "metadata": {
        "id": "wqKR5GBEGWZu"
      }
    },
    {
      "cell_type": "code",
      "source": [
        "# Ahora para sacar las vacunas promedio por país, ya que obtenermos el total de\n",
        "# vacunas, obtenermos la cantidad de paises.\n",
        "# Para calcular el total de vacunas por país, sumamos daily_vaccinations\n",
        "total_vacunas_por_pais = df.groupby('country')['daily_vaccinations'].sum().sort_values(ascending=False)\n",
        "\n",
        "# Calcular promedios\n",
        "total_vacunas_mundial = total_vacunas_por_pais.sum()\n",
        "cantidad_paises = len(total_vacunas_por_pais)\n",
        "promedio_por_pais = total_vacunas_mundial / cantidad_paises\n",
        "\n",
        "print(f\"\\n Total mundial de vacunas aplicadas: {total_vacunas_mundial:,.0f} Cantidad de países: {cantidad_paises}\")\n",
        "print(f\"\\n Promedio por país: {promedio_por_pais:,.0f} vacunas\")\n",
        "\n"
      ],
      "metadata": {
        "id": "UH0Jt5c2GXau"
      },
      "execution_count": null,
      "outputs": []
    },
    {
      "cell_type": "markdown",
      "source": [
        "f. Determinar la cantidad de vacunas aplicadas el día 29/01/21 en todo el mundo.\n",
        "\n",
        "Para resolver este inciso, debemos hacer la sumatoria del filtro donde el valor de fecha sea igual a la fecha indicada del 2021-01-29, realizamos una suma de los valores filtrados y esto nos arrojará un número entero que podemos imprimir."
      ],
      "metadata": {
        "id": "sEb8fK54HQ1A"
      }
    },
    {
      "cell_type": "code",
      "source": [
        "\n",
        "# Para saber cuantas vacunas a nivel mundial se aplicaron, debemos hacer una\n",
        "# suma del resultado de un filtro de fecha específica al 29/01/21\n",
        "vacunas_29_ene_2021 = df[df['date'] == '2021-01-29']['daily_vaccinations'].sum()\n",
        "print(f\"\\n Vacunas aplicadas el 29/01/2021: {vacunas_29_ene_2021:,.0f} \\n\")\n",
        "\n"
      ],
      "metadata": {
        "id": "8dQhvuzBHRqk"
      },
      "execution_count": null,
      "outputs": []
    },
    {
      "cell_type": "markdown",
      "source": [
        "g. Crear un dataframe nuevo denominado conDiferencias que contenga los datos originales y una columna derivada (diferencias) con las diferencias de aplicación entre las columnas daily_vaccionations y daily_vaccionations_raw.  \n",
        "\n",
        "Ahora crearemos el nuevo df indicado con la columna derivada, sin embargo nos percatamos que existen valores nulos y nos marcaría un error. Para evitar esta situación, colocaremos un 0 en caso de que no haya valor, es decir sea nulo.\n",
        "\n",
        "Finalmente realizamos la operación de la resta y la imprimimos."
      ],
      "metadata": {
        "id": "gUtIgUggK7TN"
      }
    },
    {
      "cell_type": "code",
      "source": [
        "\n",
        "# Crearemos un df llamado conDiferencias con una columna extra que se llave\n",
        "# diferencias y sea la resta entre daily_vaccionations y daily_vaccionations_raw\n",
        "# Como no todas las filas tienen un valor en la parte de daily_raw habrá un\n",
        "# error al hacer la operación, por ende si hay valores nulos, considero\n",
        "# conveniente manejarlos antes de calcular diferencias. Asumiremos que si está\n",
        "# vacía la celda el valor el 0 porque no hubo vacunaciones de ese tipo ese día.\n",
        "conDiferencias = df\n",
        "conDiferencias['diferencias'] = conDiferencias['daily_vaccinations'].fillna(0) - conDiferencias['daily_vaccinations_raw'].fillna(0)\n",
        "print(f\"\\n El contenido de conDiferencias es: \\n {conDiferencias['diferencias']}\")\n",
        "\n"
      ],
      "metadata": {
        "id": "BFvRRp8RK_IM"
      },
      "execution_count": null,
      "outputs": []
    },
    {
      "cell_type": "markdown",
      "source": [
        "h. Obtener el periodo de tiempo entre el registro con fecha más reciente y el registro con fecha más antigua.\n",
        "\n",
        "Para obtener estos datos, utilizaremos las funciones min() y max() guardadas en variables independientes y posteriormente haremos una resta. después le indicaremos que nos arroje el resultado en días ya que es una diferencia de tiempo.\n",
        "\n",
        "Posteriormente y para poder imprimir de forma ordenada y más legible, haremos las divisiones pertinentes para saber en años meses y días.\n",
        "\n",
        "Imprimimos el periodo total y su equivalencia en dias, meses y años.\n",
        "\n"
      ],
      "metadata": {
        "id": "VnmXa-mdLs3W"
      }
    },
    {
      "cell_type": "code",
      "source": [
        "# Ahora buscamos obtener el periodo de tiempo entre el registro con fecha más\n",
        "# reciente y el registro con fecha más antiguo, para lo cual usaremos min y\n",
        "# max, y posteriormente los restaremos para saber la diferencia en días.\n",
        "fecha_min = df['date'].min()\n",
        "fecha_max = df['date'].max()\n",
        "dias_totales = (fecha_max - fecha_min).days\n",
        "\n",
        "# Para poder mostrar la información más digerible, necesitamos convertir días\n",
        "# a años, meses y el remanente en días\n",
        "años = dias_totales // 365\n",
        "meses = (dias_totales % 365) // 30\n",
        "dias = (dias_totales % 365) % 30\n",
        "\n",
        "# Imprimiremos el periodo con un formato de días y en una segunda impresión\n",
        "# colocaremos un formato de años, meses y su residuo en días.\n",
        "print(f\"\\n Período total entre las fechas más distantes: {dias_totales} días\")\n",
        "print(f\"\\n Equivale a {años} años, {meses} meses y {dias} días\")\n"
      ],
      "metadata": {
        "id": "ADlWAnoiLvDd"
      },
      "execution_count": null,
      "outputs": []
    },
    {
      "cell_type": "markdown",
      "source": [
        "i. Crear un dataframe nuevo denominado conCantidad que contenga los datos originales y una columna derivada (canVac) con la cantidad de vacunas utilizadas cada día (usar la columna vaccines y separar por el carácter , ).\n",
        "\n",
        "\n",
        "Creamos el df, separamos por \" , \" y utilizamos un len para poder saber la cantidad de vacunas.\n",
        "Mostramos las primeras filas para saber que se agregó de forma correcta.\n"
      ],
      "metadata": {
        "id": "lKyCfAGBMY_M"
      }
    },
    {
      "cell_type": "code",
      "source": [
        "# Crear el nuevo DataFrame conCantidad con la columna canVac\n",
        "conCantidad = df.assign(\n",
        "    canVac=df['vaccines'].apply(lambda x: len(str(x).split(',')) if pd.notna(x) and x != '' else 0)\n",
        ")\n",
        "\n",
        "# Mostrar las primeras filas para verificar que se agregó correctamente\n",
        "print(\"\\n Contenido de conCantidad: \\n\")\n",
        "print(conCantidad.head())\n",
        "\n"
      ],
      "metadata": {
        "id": "MNjEd4J5McII"
      },
      "execution_count": null,
      "outputs": []
    },
    {
      "cell_type": "markdown",
      "source": [
        "j. Generar un dataframe denominado antes20 con todos los registros que se hayan realizado antes del 20 de diciembre de 2020.\n",
        "\n",
        "Obtenemos del df original, la columna date y colocamos una condición de solo valores antes del 20 de dic de 2020, esto comparando la columna date. Al final agregamos un len() para saber cuántos registros hay y poder validar manualmente.\n"
      ],
      "metadata": {
        "id": "N7QOSX3ZVVhB"
      }
    },
    {
      "cell_type": "code",
      "source": [
        "# Para crear DataFrame con registros antes del 20-dic-2020 solo debemos\n",
        "# indicarle la fecha para que sea menor, ya que hemos convertido previamente el\n",
        "# valor para poder compararlo. Imprimimos la cantidad de registros.\n",
        "antes20 = df[df['date'] < '2020-12-20']\n",
        "print(f\"\\n Cantidad de registros antes del 20-dic-2020: {len(antes20):,}\")\n"
      ],
      "metadata": {
        "id": "OOaFJOBNVYMY"
      },
      "execution_count": null,
      "outputs": []
    },
    {
      "cell_type": "markdown",
      "source": [
        "k. Obtener un dataframe denominado pfizer con todos los registros donde se haya utilizado la vacuna Pfizer.\n",
        "\n",
        "Para este punto, el dataframe lo firltraremos utilizando la función contains(), pero es importante convertir a string el contenido de la columna \"vacciones\" para poder compararlo adecuadamente.\n",
        "\n",
        "Una vez que tengamos el resultado, solo colocamos la cantidad de registros del df pfizer.\n"
      ],
      "metadata": {
        "id": "NckY27QfV2tj"
      }
    },
    {
      "cell_type": "code",
      "source": [
        "\n",
        "# El requeriminto es crear un DataFrame con registros que contengan\n",
        "# Pfizer/BioNTech, para lo cual haremos un str.contains para saber si está\n",
        "# dentro de la columna vaccines\n",
        "pfizer = df[df['vaccines'].str.contains('Pfizer/BioNTech', na=False)]\n",
        "print(\"\\n Contenido del dataframe: \\n\")\n",
        "print(pfizer.head)\n",
        "print(f\"\\n Cantidad de registros con Pfizer/BioNTech: {len(pfizer):,}\")\n"
      ],
      "metadata": {
        "id": "PFHrOobyV4Yy"
      },
      "execution_count": null,
      "outputs": []
    },
    {
      "cell_type": "markdown",
      "source": [
        "l. Almacenar los dataframes generados (conDiferencias, conCantidad, antes20 y pfizer) en un archivo de Excel denominado resultadosReto.xlsx, donde cada dataframe ocupe una hoja diferente. Se recomienda ver la documentación de pd.ExcelWriter.\n",
        "\n",
        "Exportaremos entonces los libros de excel separado una hoja para cada df. Lo haremos a través de to_excel.\n",
        "\n",
        "Después de revisar los resultados, noté que esta función agrega una columna con un identificador, así que lo quité colocando index en false.\n",
        "\n",
        "Al final, imprimí el tamaño del archivo para validar que no estuviera vacío y con eso verificar que la escritura ser realizó."
      ],
      "metadata": {
        "id": "YUj2GrmRWkZR"
      }
    },
    {
      "cell_type": "code",
      "source": [
        "# Por ultimo se requiere exportar a un libro de excel con una hoja por\n",
        "# dataframe, para ello vamos a necesitar cargar con un to_excel. Me percaté que\n",
        "# al principio pandas coloca una columna numerica adicional, así que para\n",
        "# llevarnos el df fiel, colocaremos la etiqueta index en false.\n",
        "with pd.ExcelWriter('resultadosReto.xlsx', engine='openpyxl') as writer:\n",
        "    conDiferencias.to_excel(writer, sheet_name='conDiferencias', index=False)\n",
        "    conCantidad.to_excel(writer, sheet_name='conCantidad', index=False)\n",
        "    antes20.to_excel(writer, sheet_name='antes20', index=False)\n",
        "    pfizer.to_excel(writer, sheet_name='pfizer', index=False)\n",
        "\n",
        "# Verificación del archivo generado por medio del peso del archivo (que\n",
        "# debería ser distinto de 0) y convertimos a MB para que sea más facil de\n",
        "# entender.\n",
        "\n",
        "tamaño_mb = os.path.getsize('resultadosReto.xlsx') / (1024 * 1024)\n",
        "print(f\"\\n Archivo creado: resultadosReto.xlsx ({tamaño_mb:.2f} MB)\")"
      ],
      "metadata": {
        "id": "Wy0aWdDcWkqs"
      },
      "execution_count": null,
      "outputs": []
    }
  ]
}